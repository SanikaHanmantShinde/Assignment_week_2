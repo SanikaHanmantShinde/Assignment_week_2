{
 "cells": [
  {
   "cell_type": "markdown",
   "id": "48e87b42-f062-4e14-8e5e-71804086ad8a",
   "metadata": {},
   "source": [
    "# Assignment_2"
   ]
  },
  {
   "cell_type": "markdown",
   "id": "650ca020-d3cb-49f0-bec5-7836869fdfaf",
   "metadata": {},
   "source": [
    "#### (1)create a package named 'cricket' which will contain modules named batsman and bowler.Create following function in respective modules.import the package and call all these functions in your program\n",
    "#### batsman:findaverage(runs,matches),strikerate(runs,balls)\n",
    "#### bowler:findavg(runs,wickets),economyrate(overs,runs)"
   ]
  },
  {
   "cell_type": "code",
   "execution_count": 1,
   "id": "e68c0d3e-aef3-4666-b414-8564248f98fd",
   "metadata": {},
   "outputs": [
    {
     "name": "stdout",
     "output_type": "stream",
     "text": [
      "bating average = 1.0\n",
      "Strike Rate = 8.928571428571429\n",
      "bowling average = 22.5\n",
      "Economy rate of bowler = 11.166666666666666\n"
     ]
    }
   ],
   "source": [
    "from cricket import batsman as c\n",
    "c.find_average(3,3)\n",
    "c.strike_rate(5,56)\n",
    "from cricket import bowler as cr\n",
    "cr.find_avg(45,2)\n",
    "cr.economy_rate(6,67)"
   ]
  },
  {
   "cell_type": "markdown",
   "id": "91a26480-3e9a-42b7-a27b-a2b42df21928",
   "metadata": {},
   "source": [
    "#### (2)write a python function to find whether the number if prime or not.def isPrime(num)"
   ]
  },
  {
   "cell_type": "code",
   "execution_count": 56,
   "id": "943c38ae-f2ca-4e50-8afc-c5919ceb1dae",
   "metadata": {},
   "outputs": [
    {
     "name": "stdin",
     "output_type": "stream",
     "text": [
      "enter number to find wether it is prime or not 1\n"
     ]
    },
    {
     "name": "stdout",
     "output_type": "stream",
     "text": [
      "1 is  prime\n"
     ]
    }
   ],
   "source": [
    "\n",
    "def isPrime(num):\n",
    "    flag=0\n",
    "    for i in range(2,num):\n",
    "        if num%i==0:\n",
    "                print(num,'is not prime')\n",
    "                flag=1\n",
    "                break\n",
    "    if flag==0 :\n",
    "        print(num,'is  prime')\n",
    "num=int(input('enter number to find wether it is prime or not'))\n",
    "isPrime(num)"
   ]
  },
  {
   "cell_type": "markdown",
   "id": "d5141de0-793a-41b2-a657-c191675ad33b",
   "metadata": {},
   "source": [
    "#### (3) write a function is_palindrome(string)that takes a string as input and returns True if the string reads the same backward as forward(e.g. 'racecar' is palindrome)."
   ]
  },
  {
   "cell_type": "code",
   "execution_count": 89,
   "id": "c3bc5617-9d16-4320-ae1d-12caa43f0d0f",
   "metadata": {},
   "outputs": [
    {
     "name": "stdin",
     "output_type": "stream",
     "text": [
      "enter a string to find whether it is palindrome or not sanika\n"
     ]
    },
    {
     "name": "stdout",
     "output_type": "stream",
     "text": [
      "sanika is not an palindrom\n"
     ]
    }
   ],
   "source": [
    "def is_palindrome1(str):\n",
    "    rev=str[::-1]\n",
    "    if str==rev:\n",
    "        print(str,'is an palindrom')\n",
    "    else:\n",
    "        print(str,'is not an palindrom')\n",
    "\n",
    "\n",
    "string=str(input('enter a string to find whether it is palindrome or not')) \n",
    "is_palindrome1(string)    \n"
   ]
  },
  {
   "cell_type": "markdown",
   "id": "a616a7bd-f3a3-4f01-a787-ef87aac709bc",
   "metadata": {},
   "source": [
    "#### (4) Write a function reverce_list(data) that takes a list as input and returns a new list with the elements in reverse order(e.g.reverse_list([1,2,3])returns [3,2,1])"
   ]
  },
  {
   "cell_type": "code",
   "execution_count": null,
   "id": "a00f86ac-19c0-4db1-9a50-8f2a87661293",
   "metadata": {},
   "outputs": [],
   "source": []
  },
  {
   "cell_type": "code",
   "execution_count": null,
   "id": "c045a702-d93d-46f7-b1ec-134d585abe09",
   "metadata": {},
   "outputs": [],
   "source": []
  },
  {
   "cell_type": "code",
   "execution_count": 95,
   "id": "fec63b22-c3dc-4215-b4fb-29e5b3e39c84",
   "metadata": {},
   "outputs": [
    {
     "name": "stdin",
     "output_type": "stream",
     "text": [
      "enter a list= 12345\n"
     ]
    },
    {
     "name": "stdout",
     "output_type": "stream",
     "text": [
      "['5', '4', '3', '2', '1']\n"
     ]
    }
   ],
   "source": [
    "def reverse_list(data):\n",
    "    print(data[::-1])            \n",
    "        \n",
    "data=list(input('enter a list='))\n",
    "reverse_list(data)"
   ]
  },
  {
   "cell_type": "markdown",
   "id": "fc0bae39-a472-4061-bf9a-14dfd1a48cc5",
   "metadata": {},
   "source": [
    "#### (5) Write a function write_file(filename,content) that takes a filename and content as input and writes the content to the specified file."
   ]
  },
  {
   "cell_type": "code",
   "execution_count": 18,
   "id": "2d1d4774-6432-4acc-9024-e8fe049970f2",
   "metadata": {},
   "outputs": [
    {
     "name": "stdin",
     "output_type": "stream",
     "text": [
      "enter a file name to access its content= sanika.txt\n"
     ]
    }
   ],
   "source": [
    "def write_file(filename,content):\n",
    "    with open('copy_content','w') as w:\n",
    "        w.write(content)\n",
    "filename=str(input('enter a file name to access its content='))\n",
    "with open(filename,'r') as f:\n",
    "    content=f.read()\n",
    "write_file(filename,content)"
   ]
  },
  {
   "cell_type": "markdown",
   "id": "583df5e3-899a-4e6f-88b7-0d8cab1c82e2",
   "metadata": {},
   "source": [
    "#### (6) Write a function copy_file(source_filename,destination_filename)that takes the source and destination filenames as input and copies the content of the source file to the destination file. handle cases where the source file doesnt exist."
   ]
  },
  {
   "cell_type": "code",
   "execution_count": 5,
   "id": "683a1aca-d8f5-4765-bb2f-845447ee23a3",
   "metadata": {},
   "outputs": [
    {
     "name": "stdin",
     "output_type": "stream",
     "text": [
      "enter a file name to access its content= sanika.txt\n",
      "enter a file to which you want to copy the content= sanikacopy.txt\n"
     ]
    }
   ],
   "source": [
    "def copy_file(source_filename,destination_filename):\n",
    "    try:\n",
    "        with open(source_filename,'r')as f:\n",
    "            with open(destination_filename,'w')as w:\n",
    "                content=f.read()\n",
    "                w.write(content)\n",
    "    except FileNotFoundError:\n",
    "        print('Sorry!!! source_file does not exists')\n",
    "source_filename=str(input('enter a file name to access its content='))\n",
    "destination_filename=str(input('enter a file to which you want to copy the content='))\n",
    "copy_file(source_filename,destination_filename)\n",
    "\n",
    "            "
   ]
  },
  {
   "cell_type": "markdown",
   "id": "c57813dd-9527-41b3-a765-d30ad73d1c66",
   "metadata": {},
   "source": [
    "#### (7) Implement a function to calculate the dot product of two NumPy arrays"
   ]
  },
  {
   "cell_type": "code",
   "execution_count": 89,
   "id": "3881eb8a-fdfd-4d21-bd26-dca74360f0d7",
   "metadata": {},
   "outputs": [
    {
     "data": {
      "text/plain": [
       "array([[ 30,  36,  42],\n",
       "       [ 66,  81,  96],\n",
       "       [102, 126, 150]])"
      ]
     },
     "execution_count": 89,
     "metadata": {},
     "output_type": "execute_result"
    }
   ],
   "source": [
    "import numpy as np\n",
    "def dot_product(array1,array2):\n",
    "    return array1 @ array2\n",
    "array1=np.array([[1,2,3],[4,5,6],[7,8,9]])\n",
    "array2=np.array([[1,2,3],[4,5,6],[7,8,9]])\n",
    "dot_product(array1,array2)"
   ]
  },
  {
   "cell_type": "markdown",
   "id": "6273342c-bc0d-4fea-866f-6808346a5307",
   "metadata": {},
   "source": [
    "#### (8) Implement a GUI with a radio button selection for choosing a favorite color(e.g.red,green,blue).Change the background color of the window based on the selected radio button.\n"
   ]
  },
  {
   "cell_type": "code",
   "execution_count": 44,
   "id": "dca771de-a8c4-4bc9-8dde-542fbb01bb2b",
   "metadata": {},
   "outputs": [],
   "source": [
    "import tkinter as tk\n",
    "from tkinter import *\n",
    "top=tk.Tk()\n",
    "top.title('Background color changer')\n",
    "top.geometry('700x500')\n",
    "l1=tk.Label(top,text='Select the color=',).pack()\n",
    "\n",
    "def red_background():\n",
    "    top.configure(bg=\"red\")\n",
    "def green_background():\n",
    "    top.configure(bg=\"green\")\n",
    "def blue_background():\n",
    "    top.configure(bg=\"blue\")\n",
    "\n",
    "    \n",
    "\n",
    "\n",
    "b1=tk.Radiobutton(top,text='Red',bg='Pink',command=red_background).place(x=10,y=20)\n",
    "b2=tk.Radiobutton(top,text='Green',bg='Pink',command=green_background).pack()\n",
    "b3=tk.Radiobutton(top,text='Blue',bg='Pink',command=blue_background).pack()\n",
    "top.mainloop()"
   ]
  },
  {
   "cell_type": "markdown",
   "id": "8fe6ce11-9cff-41d2-8009-6e0fdcb12980",
   "metadata": {},
   "source": [
    "#### (9) Design a currency converter GUI.Allow users to enter an amount and select the currency they want to convert between(e.g. USD,EUR).Display the converted amount in the selected currency "
   ]
  },
  {
   "cell_type": "code",
   "execution_count": 81,
   "id": "1df674fc-f21e-4ef6-bc68-7f3fd7617d01",
   "metadata": {},
   "outputs": [],
   "source": [
    "import tkinter as tk\n",
    "from tkinter import messagebox\n",
    "from tkinter import *\n",
    "top=tk.Tk()\n",
    "top.title('Currency Converter')\n",
    "top.geometry('700x500')\n",
    "top.configure(bg=\"pink\")\n",
    "\n",
    "rupee=IntVar()\n",
    "def to_USD():\n",
    "    r=rupee.get()\n",
    "    dollars=r/83\n",
    "    messagebox.showinfo('To USD','%i $'%dollars)\n",
    "def to_EUR():\n",
    "    r=rupee.get()\n",
    "    euro=r/89\n",
    "    messagebox.showinfo('To EUR','%i €'%euro)   \n",
    "\n",
    "\n",
    "\n",
    "\n",
    "l1=tk.Label(top,text='enter an amount=').place(x=10,y=30)\n",
    "e1=tk.Entry(top,textvariable=rupee).pack()\n",
    "b1=tk.Button(top,text='USD',bg='Yellow',command=to_USD).pack()\n",
    "b2=tk.Button(top,text='EUR',bg='Red',command=to_EUR).pack()\n",
    "\n",
    "top.mainloop()"
   ]
  },
  {
   "cell_type": "markdown",
   "id": "2114e218-c926-4803-860f-bad1bb6faf80",
   "metadata": {},
   "source": []
  },
  {
   "cell_type": "code",
   "execution_count": null,
   "id": "41ed01ba-6e23-44ad-bf78-b9acc31e8473",
   "metadata": {},
   "outputs": [],
   "source": []
  }
 ],
 "metadata": {
  "kernelspec": {
   "display_name": "Python 3 (ipykernel)",
   "language": "python",
   "name": "python3"
  },
  "language_info": {
   "codemirror_mode": {
    "name": "ipython",
    "version": 3
   },
   "file_extension": ".py",
   "mimetype": "text/x-python",
   "name": "python",
   "nbconvert_exporter": "python",
   "pygments_lexer": "ipython3",
   "version": "3.11.7"
  }
 },
 "nbformat": 4,
 "nbformat_minor": 5
}
